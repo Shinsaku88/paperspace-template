{
  "nbformat": 4,
  "nbformat_minor": 0,
  "metadata": {
    "colab": {
      "private_outputs": true,
      "provenance": [],
      "authorship_tag": "ABX9TyMjlepe2nb00lgggF0s3Bu0"
    },
    "kernelspec": {
      "name": "python3",
      "display_name": "Python 3"
    },
    "language_info": {
      "name": "python"
    },
    "gpuClass": "standard"
  },
  "cells": [
    {
      "cell_type": "markdown",
      "source": [
        "このスクリプトについてのサポート、Stable Diffusion Web UI に関するサポート、および Paperspace に関するサポートについては https://bit.ly/paperspace-openchat に参加してみてください。LINE のオープンチャットです(LINEのメインアカウントの存在および本名がバレることはありません)。よろしくお願いします。"
      ],
      "metadata": {
        "id": "Kjk3ElgEG9Kz"
      }
    },
    {
      "cell_type": "code",
      "execution_count": null,
      "metadata": {
        "id": "MqkL1trNsCc9"
      },
      "outputs": [],
      "source": [
        "# 一日分圧縮＆削除\n",
        "%env DT=2023-05-24\n",
        "!zip -r /notebooks/download-$DT.zip /notebooks/stable-diffusion-webui/outputs/txt2img-images/$DT\n",
        "!rm -rf /notebooks/stable-diffusion-webui/outputs/txt2img-images/$DT\n"
      ]
    },
    {
      "cell_type": "code",
      "source": [
        "# 日付一覧を表示\n",
        "!ls -l /notebooks/stable-diffusion-webui/outputs/txt2img-images/"
      ],
      "metadata": {
        "id": "aCPEaMoUxoL4"
      },
      "execution_count": null,
      "outputs": []
    }
  ]
}