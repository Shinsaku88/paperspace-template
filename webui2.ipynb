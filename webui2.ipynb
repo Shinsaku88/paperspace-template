{
  "cells": [
    {
      "cell_type": "code",
      "execution_count": null,
      "metadata": {
        "execution": {
          "iopub.execute_input": "2023-11-07T16:11:06.684248Z",
          "iopub.status.busy": "2023-11-07T16:11:06.682977Z"
        },
        "id": "qfGtMLwLpCr3"
      },
      "outputs": [],
      "source": [
        "#(3) WebUI起動\n",
        "!apt update\n",
        "!apt -y install python3.10\n",
        "!apt -y install libpython3.10-dev\n",
        "!apt -y install build-essential\n",
        "!curl -sS https://bootstrap.pypa.io/get-pip.py | python3.10\n",
        "!python3.10 -m pip install torch==2.0.1+cu118 torchvision==0.15.2+cu118 torchaudio==2.0.2+cu118 torchtext==0.15.2 torchdata==0.6.1 --extra-index-url https://download.pytorch.org/whl/cu118 -U\n",
        "!python3.10 -m pip install xformers==0.0.20 triton==2.0.0 gradio_client==0.2.7 -U\n",
        "!python3.10 -m pip install httpx==0.24.1\n",
        "!python3.10 -m pip install matplotlib -U\n",
        "!python3.10 -m pip install ipython -U\n",
        "from IPython import get_ipython\n",
        "get_ipython().run_line_magic('matplotlib', 'inline')\n",
        "%cd /notebooks/stable-diffusion-webui\n",
        "!python3.10 launch.py --xformers --enable-insecure-extension-access --share --gradio-queue\n"
      ]
    },
    {
      "cell_type": "code",
      "execution_count": null,
      "metadata": {
        "execution": {
          "iopub.execute_input": "2023-11-06T23:16:20.404991Z",
          "iopub.status.busy": "2023-11-06T23:16:20.404496Z",
          "iopub.status.idle": "2023-11-06T23:16:23.023966Z",
          "shell.execute_reply": "2023-11-06T23:16:23.023240Z",
          "shell.execute_reply.started": "2023-11-06T23:16:20.404970Z"
        },
        "id": "JMVf8COkpK0e"
      },
      "outputs": [],
      "source": [
        "#(1) AUTOMATIC1111のダウンロード\n",
        "%cd /notebooks\n",
        "!rm -rf stable-diffusion-webui\n",
        "!git clone https://github.com/AUTOMATIC1111/stable-diffusion-webui\n"
      ]
    },
    {
      "cell_type": "code",
      "execution_count": null,
      "metadata": {
        "execution": {
          "iopub.execute_input": "2023-11-06T23:16:54.225424Z",
          "iopub.status.busy": "2023-11-06T23:16:54.224711Z",
          "iopub.status.idle": "2023-11-06T23:28:50.876177Z",
          "shell.execute_reply": "2023-11-06T23:28:50.875243Z",
          "shell.execute_reply.started": "2023-11-06T23:16:54.225395Z"
        },
        "id": "rIUmi3RhpQiW"
      },
      "outputs": [],
      "source": [
        "#(2) モデルのダウンロード（ここにダウンロードしたいモデルを追加）\n",
        "%cd /notebooks/stable-diffusion-webui/models/Stable-diffusion\n",
        "!wget -nc https://civitai.com/api/download/models/16859 -O BlueberryMix-1.0.safetensors\n",
        "!wget -nc https://civitai.com/api/download/models/11745 -O Chilloutmix-Ni-pruned-fp32-fix.safetensors\n",
        "!wget -nc https://huggingface.co/sazyou-roukaku/chilled_remix/resolve/5876389637f3f82d2b33a609f85f9b36aa4748fe/chilled_remix_v1vae.safetensors -O chilled_remix_v1vae.safetensors\n",
        "!wget -nc https://huggingface.co/sazyou-roukaku/chilled_remix/resolve/main/chilled_remix_v2.safetensors -O chilled_remix_v2.safetensors\n",
        "\n",
        "%cd /notebooks/stable-diffusion-webui/embeddings\n",
        "!wget -nc https://civitai.com/api/download/models/60938 -O negative_hand-neg.pt\n",
        "!wget -nc https://huggingface.co/datasets/Nerfgun3/bad_prompt/resolve/main/bad_prompt_version2.pt -O bad_prompt.pt\n"
      ]
    },
    {
      "cell_type": "code",
      "execution_count": null,
      "metadata": {
        "id": "a3c-0LBjpYXe"
      },
      "outputs": [],
      "source": [
        "#(4) AUTOMATIC1111アップデート（アップデートが必要な時のみ実行）\n",
        "%cd /notebooks/stable-diffusion-webui\n",
        "!git checkout master\n",
        "!git pull\n"
      ]
    }
  ],
  "metadata": {
    "colab": {
      "private_outputs": true,
      "provenance": []
    },
    "gpuClass": "standard",
    "kernelspec": {
      "display_name": "Python 3 (ipykernel)",
      "language": "python",
      "name": "python3"
    },
    "language_info": {
      "codemirror_mode": {
        "name": "ipython",
        "version": 3
      },
      "file_extension": ".py",
      "mimetype": "text/x-python",
      "name": "python",
      "nbconvert_exporter": "python",
      "pygments_lexer": "ipython3",
      "version": "3.9.16"
    }
  },
  "nbformat": 4,
  "nbformat_minor": 0
}