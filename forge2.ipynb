{
  "cells": [
    {
      "cell_type": "markdown",
      "metadata": {
        "id": "y5PYpiOS7InM"
      },
      "source": [
        "このスクリプトについてのサポート、Stable Diffusion Web UI に関するサポート、および Paperspace に関するサポートについては https://bit.ly/paperspace-openchat に参加してみてください。LINE のオープンチャットです(LINEのメインアカウントの存在および本名がバレることはありません)。よろしくお願いします。"
      ]
    },
    {
      "cell_type": "code",
      "execution_count": null,
      "metadata": {
        "execution": {
          "iopub.execute_input": "2024-02-09T01:14:33.753802Z",
          "iopub.status.busy": "2024-02-09T01:14:33.753515Z",
          "iopub.status.idle": "2024-02-09T01:19:04.170771Z",
          "shell.execute_reply": "2024-02-09T01:19:04.169884Z",
          "shell.execute_reply.started": "2024-02-09T01:14:33.753781Z"
        },
        "id": "qfGtMLwLpCr3"
      },
      "outputs": [],
      "source": [
        "#(3) WebUI起動\n",
        "!apt update\n",
        "!apt -y install python3.10\n",
        "!apt -y install libpython3.10-dev\n",
        "!apt -y install build-essential\n",
        "!apt -y install ffmpeg\n",
        "!curl -sS https://bootstrap.pypa.io/get-pip.py | python3.10\n",
        "!python3.10 -m pip install setuptools==69.5.1 -U\n",
        "!python3.10 -m pip install torch==2.1.2 torchvision==0.16.2 torchaudio==2.1.2 torchdata==0.7.1 torchtext==0.16.2+cpu xformers==0.0.23.post1 --index-url https://download.pytorch.org/whl/cu121 -U\n",
        "!python3.10 -m pip install httpx==0.24.1\n",
        "#!python3.10 -m pip install insightface -U\n",
        "!python3.10 -m pip install matplotlib -U\n",
        "!python3.10 -m pip install ipython -U\n",
        "from IPython import get_ipython\n",
        "get_ipython().run_line_magic('matplotlib', 'inline')\n",
        "%cd /notebooks/stable-diffusion-webui-forge\n",
        "!python3.10 launch.py --xformers --enable-insecure-extension-access --share --gradio-queue\n"
      ]
    },
    {
      "cell_type": "code",
      "execution_count": null,
      "metadata": {
        "execution": {
          "iopub.execute_input": "2024-02-09T00:59:55.586596Z",
          "iopub.status.busy": "2024-02-09T00:59:55.585811Z",
          "iopub.status.idle": "2024-02-09T00:59:59.339243Z",
          "shell.execute_reply": "2024-02-09T00:59:59.338263Z",
          "shell.execute_reply.started": "2024-02-09T00:59:55.586553Z"
        },
        "id": "JMVf8COkpK0e"
      },
      "outputs": [],
      "source": [
        "#(1) FORGEのダウンロード\n",
        "%cd /notebooks\n",
        "!rm -rf stable-diffusion-webui-forge\n",
        "!git clone https://github.com/lllyasviel/stable-diffusion-webui-forge\n"
      ]
    },
    {
      "cell_type": "code",
      "execution_count": null,
      "metadata": {
        "execution": {
          "iopub.execute_input": "2024-02-09T01:13:51.549706Z",
          "iopub.status.busy": "2024-02-09T01:13:51.548849Z",
          "iopub.status.idle": "2024-02-09T01:13:58.208089Z",
          "shell.execute_reply": "2024-02-09T01:13:58.207284Z",
          "shell.execute_reply.started": "2024-02-09T01:13:51.549667Z"
        },
        "id": "rIUmi3RhpQiW"
      },
      "outputs": [],
      "source": [
        "#(2) モデルのダウンロード（ここにダウンロードしたいモデルを追加）\n",
        "%cd /notebooks/stable-diffusion-webui-forge/models/Stable-diffusion\n",
        "!wget -nc https://civitai.com/api/download/models/16859 -O BlueberryMix-1.0.safetensors\n",
        "!wget -nc https://civitai.com/api/download/models/11745 -O Chilloutmix-Ni-pruned-fp32-fix.safetensors\n",
        "!wget -nc https://huggingface.co/sazyou-roukaku/chilled_remix/resolve/5876389637f3f82d2b33a609f85f9b36aa4748fe/chilled_remix_v1vae.safetensors -O chilled_remix_v1vae.safetensors\n",
        "!wget -nc https://huggingface.co/sazyou-roukaku/chilled_remix/resolve/main/chilled_remix_v2.safetensors -O chilled_remix_v2.safetensors\n",
        "\n",
        "%cd /notebooks/stable-diffusion-webui-forge/embeddings\n",
        "!wget -nc https://civitai.com/api/download/models/60938 -O negative_hand-neg.pt\n",
        "!wget -nc https://huggingface.co/datasets/Nerfgun3/bad_prompt/resolve/main/bad_prompt_version2.pt -O bad_prompt.pt\n",
        "\n",
        "%cd /notebooks/stable-diffusion-webui-forge/models/VAE\n",
        "!wget -nc https://huggingface.co/stabilityai/sd-vae-ft-mse-original/resolve/main/vae-ft-mse-840000-ema-pruned.ckpt -O vae-ft-mse-840000-ema-pruned.ckpt\n",
        "\n",
        "!mkdir -p /notebooks/stable-diffusion-webui-forge/models/Lora\n",
        "%cd /notebooks/stable-diffusion-webui-forge/models/Lora\n",
        "!wget -nc https://civitai.com/api/download/models/54280 -O attire_hotlimit-10.safetensors\n"
      ]
    },
    {
      "cell_type": "code",
      "execution_count": null,
      "metadata": {
        "execution": {
          "iopub.execute_input": "2024-02-02T04:34:39.019792Z",
          "iopub.status.busy": "2024-02-02T04:34:39.019001Z",
          "iopub.status.idle": "2024-02-02T04:34:40.264948Z",
          "shell.execute_reply": "2024-02-02T04:34:40.264260Z",
          "shell.execute_reply.started": "2024-02-02T04:34:39.019751Z"
        },
        "id": "a3c-0LBjpYXe"
      },
      "outputs": [],
      "source": [
        "#(4) FORGEアップデート（アップデートが必要な時のみ実行）\n",
        "%cd /notebooks/stable-diffusion-webui-forge\n",
        "!git checkout main\n",
        "!git pull\n"
      ]
    }
  ],
  "metadata": {
    "colab": {
      "private_outputs": true,
      "provenance": []
    },
    "gpuClass": "standard",
    "kernelspec": {
      "display_name": "Python 3 (ipykernel)",
      "language": "python",
      "name": "python3"
    },
    "language_info": {
      "codemirror_mode": {
        "name": "ipython",
        "version": 3
      },
      "file_extension": ".py",
      "mimetype": "text/x-python",
      "name": "python",
      "nbconvert_exporter": "python",
      "pygments_lexer": "ipython3",
      "version": "3.9.16"
    }
  },
  "nbformat": 4,
  "nbformat_minor": 0
}